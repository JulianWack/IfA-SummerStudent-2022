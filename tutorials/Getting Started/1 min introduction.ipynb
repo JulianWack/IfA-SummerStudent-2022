{
 "cells": [
  {
   "cell_type": "code",
   "execution_count": 1,
   "id": "faca6c13",
   "metadata": {},
   "outputs": [],
   "source": [
    "import numpy as np\n",
    "import matplotlib.pyplot as plt\n",
    "from nbodykit.lab import *"
   ]
  },
  {
   "cell_type": "code",
   "execution_count": 2,
   "id": "e0b62b1f",
   "metadata": {},
   "outputs": [],
   "source": [
    "# generate catalog with Position and Velocity columns; values are sampled from\n",
    "# normal dist\n",
    "# number of discrete objects/galaxies varries\n",
    "catalog = UniformCatalog(nbar=100, BoxSize=1.0) # nbar is number density"
   ]
  },
  {
   "cell_type": "code",
   "execution_count": 3,
   "id": "21462561",
   "metadata": {},
   "outputs": [
    {
     "name": "stdout",
     "output_type": "stream",
     "text": [
      "95\n",
      "dask.array<array, shape=(95, 3), dtype=float64, chunksize=(95, 3), chunktype=numpy.ndarray> first: [0.16525271 0.50057533 0.05370795] last: [0.45420865 0.71647102 0.35536218]\n"
     ]
    }
   ],
   "source": [
    "print(catalog.size) # equivalent to len(catalog)\n",
    "print(catalog[\"Position\"])"
   ]
  },
  {
   "cell_type": "code",
   "execution_count": 4,
   "id": "ecfecd93",
   "metadata": {},
   "outputs": [],
   "source": [
    "# column manipulation\n",
    "BoxSize = 2500\n",
    "catalog[\"Position\"] *= BoxSize # renormalize position\n",
    "catalog[\"Mass\"] = np.power(10, np.random.uniform(12,15, size=len(catalog)))"
   ]
  },
  {
   "cell_type": "code",
   "execution_count": 8,
   "id": "9fae17f0",
   "metadata": {},
   "outputs": [
    {
     "data": {
      "text/plain": [
       "<matplotlib.colorbar.Colorbar at 0x7f653b90a130>"
      ]
     },
     "execution_count": 8,
     "metadata": {},
     "output_type": "execute_result"
    },
    {
     "data": {
      "image/png": "[encoded data removed]",
      "text/plain": [
       "<Figure size 432x288 with 2 Axes>"
      ]
     },
     "metadata": {
      "needs_background": "light"
     },
     "output_type": "display_data"
    }
   ],
   "source": [
    "# make density field mesh from catalog\n",
    "mesh = catalog.to_mesh(Nmesh=64, BoxSize=BoxSize)\n",
    "mesh.save('mesh.bigfile') # save to reload later\n",
    "# 2D preview\n",
    "fig = plt.figure()\n",
    "density_field = plt.imshow(mesh.preview(axes=[0,1], Nmesh=32), cmap='Blues')\n",
    "fig.colorbar(density_field)"
   ]
  },
  {
   "cell_type": "code",
   "execution_count": 42,
   "id": "febc536f",
   "metadata": {},
   "outputs": [],
   "source": [
    "# use mesh in other algos\n",
    "r = FFTPower(mesh, '1d', Nmu=5)\n",
    "r.save(\"power-result.json\")"
   ]
  }
 ],
 "metadata": {
  "kernelspec": {
   "display_name": "nbody-venv",
   "language": "python",
   "name": "local-venv"
  },
  "language_info": {
   "codemirror_mode": {
    "name": "ipython",
    "version": 3
   },
   "file_extension": ".py",
   "mimetype": "text/x-python",
   "name": "python",
   "nbconvert_exporter": "python",
   "pygments_lexer": "ipython3",
   "version": "3.8.13"
  }
 },
 "nbformat": 4,
 "nbformat_minor": 5
}
