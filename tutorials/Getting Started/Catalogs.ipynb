{
 "cells": [
  {
   "cell_type": "markdown",
   "id": "47bb923c",
   "metadata": {},
   "source": [
    "## Snippet from the documentation"
   ]
  },
  {
   "cell_type": "markdown",
   "id": "6ff6fcce",
   "metadata": {},
   "source": [
    "- Catalogs behave much like a numpy structured array, where the fields of the array are referred to as “columns”. These columns store the information about the objects in the catalog; common columns are “Position”, “Velocity”, “Mass”, etc. \n",
    "- nbodykit.base.catalog.CatalogSource is an abstract base class and cannot be initialized directly. This is done via special catalog subclasses, falling into either of these categories:\n",
    "\n",
    "    1) Reading data from disk\n",
    "    \n",
    "    2) Generating mock data\n",
    "    \n",
    "- CatalogSource.size: # objects in catalog\n",
    "- CatalogSource.csize: collective # attributes in catalog"
   ]
  },
  {
   "cell_type": "markdown",
   "id": "a80f907a",
   "metadata": {},
   "source": [
    "Meaning of some columns:\n"
   ]
  },
  {
   "cell_type": "markdown",
   "id": "ae9006c8",
   "metadata": {},
   "source": [
    "| Name | Description | Default Value |\n",
    "| --- | --- | --- |\n",
    "| Value | When interpolating a CatalogSource on to a mesh, the value of this array is used as the field value that each particle contributes to a given mesh cell. The mesh field is a weighted average of Value, with the weights given by Weight. For example, the Value column could represent Velocity, in which case the field painted to the mesh will be momentum when Weight is set to be the mass(mass-weighted velocity). | 1.0 |\n",
    "| Weight | The weight to use for each particle when interpolating a CatalogSource on to a mesh. The mesh field is a weighted average of Value, with the weights given by Weight. | 1.0 |\n",
    "| Selection | A boolean column that selects a subset slice of the CatalogSource. When converting a CatalogSource to a mesh object, only the objects where the Selection column is True will be painted to the mesh. | True | "
   ]
  },
  {
   "cell_type": "markdown",
   "id": "238231c9",
   "metadata": {},
   "source": [
    "### Reading catalogs from disk"
   ]
  },
  {
   "cell_type": "code",
   "execution_count": 22,
   "id": "e941f49d",
   "metadata": {},
   "outputs": [
    {
     "name": "stdout",
     "output_type": "stream",
     "text": [
      "BinaryCatalog(size=1024, FileStack(BinaryFile(path=/home/jwack/library tests/binary-example.dat, dataset=*, ncolumns=2, shape=(1024,)>, ... 1 files))\n",
      "columns =  ['Position', 'Selection', 'Value', 'Velocity', 'Weight']\n",
      "total size =  1024\n"
     ]
    }
   ],
   "source": [
    "# Binary\n",
    "import numpy as np\n",
    "from nbodykit.source.catalog import BinaryCatalog\n",
    "\n",
    "# generate some fake data and save to a binary file\n",
    "with open('binary-example.dat', 'wb') as ff:\n",
    "    pos = np.random.random(size=(1024, 3)) # fake Position column\n",
    "    vel = np.random.random(size=(1024, 3)) # fake Velocity column\n",
    "    pos.tofile(ff); vel.tofile(ff); ff.seek(0)\n",
    "\n",
    "# create the binary catalog\n",
    "f = BinaryCatalog(ff.name, [('Position', ('f8', 3)), ('Velocity', ('f8', 3))], size=1024)\n",
    "\n",
    "print(f)\n",
    "print(\"columns = \", f.columns) # default Weight,Selection also present\n",
    "print(\"total size = \", f.csize)"
   ]
  },
  {
   "cell_type": "code",
   "execution_count": 5,
   "id": "2ed6f0b8",
   "metadata": {},
   "outputs": [
    {
     "name": "stdout",
     "output_type": "stream",
     "text": [
      "FITSCatalog(size=1024, FileStack(FITSFile(path=/home/jwack/library tests/fits-example.fits, dataset=Data, ncolumns=2, shape=(1024,)>, ... 1 files))\n",
      "columns =  ['Mass', 'Position', 'Selection', 'Value', 'Weight']\n",
      "total size =  1024\n"
     ]
    }
   ],
   "source": [
    "# FITS \n",
    "import fitsio\n",
    "from nbodykit.source.catalog import FITSCatalog\n",
    "\n",
    "# generate some fake data\n",
    "dset = np.empty(1024, dtype=[('Position', ('f8', 3)), ('Mass', 'f8')])\n",
    "dset['Position'] = np.random.random(size=(1024, 3))\n",
    "dset['Mass'] = np.random.random(size=1024)\n",
    "\n",
    "# write to a FITS file using fitsio\n",
    "fitsio.write('fits-example.fits', dset, extname='Data')\n",
    "\n",
    "# initialize the catalog\n",
    "f = FITSCatalog('fits-example.fits', ext='Data')\n",
    "\n",
    "print(f)\n",
    "print(\"columns = \", f.columns) # default Weight,Selection also present\n",
    "print(\"total size = \", f.csize)"
   ]
  },
  {
   "cell_type": "markdown",
   "id": "a8832250",
   "metadata": {},
   "source": [
    "### dask arrays\n",
    "Columns of catalogs are dask array: similar to numpy structured arrays with only difference that np array perform operations immediately while dask stores operations in a task graph which is evaluated when it is most efficient. Further advantage: operations are performed on chucks of the array (specified by ```chucksize```) such that the maximal size of the data in operation can be the size of the disk storage rather than the size of the memory."
   ]
  },
  {
   "cell_type": "code",
   "execution_count": 5,
   "id": "da5b4e79",
   "metadata": {},
   "outputs": [
    {
     "name": "stdout",
     "output_type": "stream",
     "text": [
      "UniformCatalog(size=96, seed=42)\n",
      "dask.array<array, shape=(96, 3), dtype=float64, chunksize=(96, 3), chunktype=numpy.ndarray> first: [0.45470105 0.83263203 0.06905134] last: [0.62474599 0.15388738 0.84302209]\n"
     ]
    }
   ],
   "source": [
    "from nbodykit.lab import UniformCatalog\n",
    "\n",
    "# Uniformly random posistion, vel. Trivial weight and selection columns\n",
    "cat = UniformCatalog(nbar=100, BoxSize=1.0, seed=42) \n",
    "print(cat)\n",
    "print(cat['Position'])"
   ]
  },
  {
   "cell_type": "code",
   "execution_count": 9,
   "id": "fc493ef8",
   "metadata": {},
   "outputs": [
    {
     "data": {
      "text/plain": [
       "array([0.00402579, 0.00015685, 0.00271747])"
      ]
     },
     "execution_count": 9,
     "metadata": {},
     "output_type": "execute_result"
    }
   ],
   "source": [
    "# evaluating a dask array\n",
    "import dask.array as da\n",
    "\n",
    "pos = cat['Position']\n",
    "min_da_array = da.min(pos, axis=0) # makes task graph for finding smallest triplet of cartesian position\n",
    "result = min_da_array.compute() # evaluated task graph, giving np array\n",
    "result"
   ]
  },
  {
   "cell_type": "code",
   "execution_count": 17,
   "id": "df10b337",
   "metadata": {},
   "outputs": [
    {
     "name": "stdout",
     "output_type": "stream",
     "text": [
      "<class 'numpy.ndarray'>\n"
     ]
    }
   ],
   "source": [
    "# alternative, also giving np array\n",
    "vel = cat.compute(cat['Velocity'])\n",
    "print(type(vel))"
   ]
  },
  {
   "cell_type": "markdown",
   "id": "1f27dd52",
   "metadata": {},
   "source": [
    "### data operations\n",
    "See getting started manual -> discrete data catalogs -> common data operations for how to concatenate and stack columns"
   ]
  },
  {
   "cell_type": "code",
   "execution_count": 75,
   "id": "592d1c34",
   "metadata": {},
   "outputs": [],
   "source": [
    "from nbodykit.lab import *\n",
    "cat = UniformCatalog(nbar=100, BoxSize=1.0, seed=42)"
   ]
  },
  {
   "cell_type": "code",
   "execution_count": 76,
   "id": "8c9014ef",
   "metadata": {},
   "outputs": [
    {
     "name": "stdout",
     "output_type": "stream",
     "text": [
      "Does 'Mass' column exist?  False\n",
      "Original:  [0.26135736 0.80682607 0.90297312 0.74087606 0.83415904]\n",
      "normalized:  [1.         3.08706084 3.45493663 2.83472428 3.19164165]\n"
     ]
    }
   ],
   "source": [
    "# check if specific column present\n",
    "print(\"Does 'Mass' column exist? \", 'Mass' in cat)\n",
    "# add columns either with array of correclt length or with scalar value\n",
    "cat['Mass'] = np.random.random(size=len(cat))\n",
    "cat['Type'] = b\"central\"\n",
    "\n",
    "# overwrite columns\n",
    "print(\"Original: \", cat['Mass'].compute()[:5]) # show first few entries of mass column\n",
    "cat['Mass'] = cat['Mass'] / cat['Mass'].compute()[0]\n",
    "print(\"normalized: \", cat['Mass'].compute()[:5]) # equivaluent: cat.compute(cat['Mass'])[:5]"
   ]
  },
  {
   "cell_type": "code",
   "execution_count": 45,
   "id": "8f89b28a",
   "metadata": {},
   "outputs": [
    {
     "name": "stdout",
     "output_type": "stream",
     "text": [
      "[[0.45470105 0.83263203 0.06905134]\n",
      " [0.31944725 0.48518719 0.29826163]\n",
      " [0.31854524 0.34906766 0.99925086]]\n"
     ]
    },
    {
     "data": {
      "text/plain": [
       "array([0.83263203, 0.48518719])"
      ]
     },
     "execution_count": 45,
     "metadata": {},
     "output_type": "execute_result"
    }
   ],
   "source": [
    "# selecting subset: boolean array or slice notation\n",
    "sel = cat['Mass'] >= 1\n",
    "sub = cat[sel]\n",
    "\n",
    "# select y position of first two galaxies\n",
    "print(sub['Position'].compute()[:3])\n",
    "sub2 = cat['Position'][0:2,1]\n",
    "sub2.compute()"
   ]
  },
  {
   "cell_type": "code",
   "execution_count": 46,
   "id": "9bf3085f",
   "metadata": {},
   "outputs": [
    {
     "name": "stdout",
     "output_type": "stream",
     "text": [
      "Columns in cat:  ['Mass', 'Position', 'Selection', 'Type', 'Value', 'Velocity', 'Weight']\n",
      "Columns in subcat:  ['Mass', 'Position', 'Selection', 'Value', 'Weight']\n"
     ]
    }
   ],
   "source": [
    "# selecting columns: 'Selection', 'Value', 'Weight' are included by default\n",
    "print(\"Columns in cat: \", cat.columns)\n",
    "subcat = cat[['Position', 'Mass']]\n",
    "print(\"Columns in subcat: \", subcat.columns)"
   ]
  },
  {
   "cell_type": "markdown",
   "id": "ddf875b5",
   "metadata": {},
   "source": [
    "### adding redshift space distortions\n",
    "mapping between real and redshift space position referred to as RSD. Here, apply along z axis"
   ]
  },
  {
   "cell_type": "code",
   "execution_count": 72,
   "id": "d0fb2def",
   "metadata": {},
   "outputs": [],
   "source": [
    "# copied nbodykit.transform.VectorProjection() since Jupyter claims no such\n",
    "# function exists\n",
    "def proj(vector, direction):\n",
    "    direction = np.asarray(direction, dtype='f8')\n",
    "    direction = direction / (direction ** 2).sum() ** 0.5\n",
    "    projection = (vector * direction).sum(axis=-1)\n",
    "    projection = projection[:, None] * direction[None, :]\n",
    "\n",
    "    return projection"
   ]
  },
  {
   "cell_type": "code",
   "execution_count": 74,
   "id": "a9093902",
   "metadata": {
    "scrolled": true
   },
   "outputs": [
    {
     "name": "stdout",
     "output_type": "stream",
     "text": [
      "Original pos:\n",
      " [[0.45470105 0.83263203 0.06905134]\n",
      " [0.31944725 0.48518719 0.29826163]\n",
      " [0.21242627 0.16674684 0.17622131]\n",
      " [0.31854524 0.34906766 0.99925086]\n",
      " [0.50668461 0.23705949 0.38925321]]\n",
      "RSD pos:\n",
      " [[0.45470105 0.83263203 0.06913185]\n",
      " [0.31944725 0.48518719 0.29834118]\n",
      " [0.21242627 0.16674684 0.17625287]\n",
      " [0.31854524 0.34906766 0.99925115]\n",
      " [0.50668461 0.23705949 0.38936703]]\n"
     ]
    }
   ],
   "source": [
    "cat = UniformCatalog(nbar=5, BoxSize=1.0, seed=42)\n",
    "print(\"Original pos:\\n\", cat['Position'].compute())\n",
    "\n",
    "line_of_sight = [0,0,1]\n",
    "cosmo = cosmology.Planck15\n",
    "redshift = 0.55\n",
    "rsd_factor = (1+redshift) / (100*cosmo.efunc(redshift)) # already included in log-normal catalogs as column 'VelocityOffset'\n",
    "cat['Position'] = cat['Position'] + rsd_factor*proj(cat['Velocity'], line_of_sight)\n",
    "print(\"RSD pos:\\n\", cat['Position'].compute())"
   ]
  },
  {
   "cell_type": "markdown",
   "id": "ea8b088f",
   "metadata": {},
   "source": [
    "### converting sky to cartesian coords\n",
    "Two angles (right ascension, declination) and redshift as radial coord -> cartesian\n",
    "To converte from redshift to comoving distance need to specify a cosmology"
   ]
  },
  {
   "cell_type": "code",
   "execution_count": 93,
   "id": "fc1fdde5",
   "metadata": {},
   "outputs": [],
   "source": [
    "src = RandomCatalog(csize=100, seed=42)\n",
    "# add random sky coords. random numer generator (rng) automatically uses correct number of objects\n",
    "src['z'] = src.rng.normal(loc=0.5, scale=0.1)\n",
    "src['ra'] = src.rng.uniform(low=0, high=360)\n",
    "src['dec'] = src.rng.uniform(low=-180, high=180)\n",
    "\n",
    "cosmo = cosmology.Planck15\n",
    "\n",
    "src['Position'] = transform.SkyToCartesian(src['ra'], src['z'], src['dec'], \n",
    "                                          degrees=True, cosmo=cosmo)\n",
    "# some entries are nan. Supsect that this is caused by the choosen cosmology"
   ]
  },
  {
   "cell_type": "markdown",
   "id": "968c3da3",
   "metadata": {},
   "source": [
    "Note that ```UniformCatalog``` is a subclass of ```RandomCatalog``` that includes uniformly distributed columns for Position (between 0 and BoxSize) and Velocity (between 0 and 0.01 x BoxSize) with a particle number density nbar."
   ]
  },
  {
   "cell_type": "markdown",
   "id": "f4c78707",
   "metadata": {},
   "source": [
    "### Log-normal catalog\n",
    "More realistic approximation of cosmological large-scale structure: generates a set of objects by Poisson sampling a log-normal density field: get discrete positions of galaxies, by sampling the density field in each cell of the mesh. The desired number of galaxies in the bos of space considered is determined by nbar. Then use Zel'dovich approx to simulate dynamics of sampled galaxies. Final position, velocities, and velocity offset are stored in columns.\n",
    "\n",
    "```LogNormalCatalog``` requires a linear power spectrum function, redshift, and linear bias.\n",
    "\n",
    "Log-Normal definition: If X is log-normally distributed, then ln(X) is normally distributed."
   ]
  },
  {
   "cell_type": "markdown",
   "id": "3d8ed9e6",
   "metadata": {},
   "source": [
    "### Halo Occupation Distribution catalog\n",
    "Takes a set of DM halos and populates it with galaxies according to the conditional probability $P(N|M)$ that a halo of mass $M$ hosts $N$ objects. Assumes that the galaxy-halo connection only depends on the halo mass. Galaxies in halo are grouped into centrals and satellites.\n",
    "\n",
    "See https://nbodykit.readthedocs.io/en/latest/catalogs/mock-data.html for more details and references to further reading. "
   ]
  },
  {
   "cell_type": "code",
   "execution_count": 3,
   "id": "7ba895b7",
   "metadata": {},
   "outputs": [],
   "source": [
    "# example of populating halos accoriding to a specific form of P(N|M)\n",
    "from nbodykit.lab import UniformCatalog, HaloCatalog, cosmology\n",
    "from nbodykit.hod import Zheng07Model\n",
    "\n",
    "# first make uniform particles in a box and interpret them as halos\n",
    "cat = UniformCatalog(nbar=100, BoxSize=1.0, seed=42)\n",
    "cat['Mass'] = 10**(cat.rng.uniform(12,15))\n",
    "halos = HaloCatalog(cat, cosmo=cosmology.Planck15, redshift=0., mdef='vir', position='Position', velocity='Velocity', mass='Mass')\n",
    "print(\"# of generated halos: \", len(halos))"
   ]
  },
  {
   "cell_type": "code",
   "execution_count": 31,
   "id": "a1b7a391",
   "metadata": {
    "scrolled": true
   },
   "outputs": [
    {
     "name": "stdout",
     "output_type": "stream",
     "text": [
      "Total # of generated galaxies:  282\n",
      "Available columns:  ['Position', 'Selection', 'Value', 'Velocity', 'VelocityOffset', 'Weight', 'conc_NFWmodel', 'gal_type', 'halo_hostid', 'halo_id', 'halo_mvir', 'halo_num_centrals', 'halo_num_satellites', 'halo_rvir', 'halo_upid', 'halo_vx', 'halo_vy', 'halo_vz', 'halo_x', 'halo_y', 'halo_z', 'host_centric_distance', 'vx', 'vy', 'vz', 'x', 'y', 'z']\n",
      "# of centrals:  91\n",
      "# of satellites =  191\n"
     ]
    },
    {
     "name": "stderr",
     "output_type": "stream",
     "text": [
      "/home/jwack/.conda/envs/nbodykit-env/lib/python3.8/site-packages/astropy/cosmology/core.py:342: AstropyDeprecationWarning: `astropy.cosmology.core.FLRW` has been moved (since v5.0) and should be imported as ``from astropy.cosmology import FLRW``. In future this will raise an exception.\n",
      "  warnings.warn(\n",
      "/home/jwack/.conda/envs/nbodykit-env/lib/python3.8/site-packages/astropy/cosmology/core.py:342: AstropyDeprecationWarning: `astropy.cosmology.core.FLRW` has been moved (since v5.0) and should be imported as ``from astropy.cosmology import FLRW``. In future this will raise an exception.\n",
      "  warnings.warn(\n",
      "/home/jwack/.conda/envs/nbodykit-env/lib/python3.8/site-packages/astropy/cosmology/core.py:342: AstropyDeprecationWarning: `astropy.cosmology.core.FLRW` has been moved (since v5.0) and should be imported as ``from astropy.cosmology import FLRW``. In future this will raise an exception.\n",
      "  warnings.warn(\n",
      "/home/jwack/.conda/envs/nbodykit-env/lib/python3.8/site-packages/astropy/cosmology/core.py:342: AstropyDeprecationWarning: `astropy.cosmology.core.FLRW` has been moved (since v5.0) and should be imported as ``from astropy.cosmology import FLRW``. In future this will raise an exception.\n",
      "  warnings.warn(\n"
     ]
    }
   ],
   "source": [
    "# now populate according to Zheng's model from 2007 paper\n",
    "# Can specify upto to 5 parameters for the population process; see above linked docs \n",
    "hod = halos.populate(Zheng07Model, alpha=0.5, sigma_logM=0.4, seed=42)\n",
    "\n",
    "print(\"Total # of generated galaxies: \", hod.size)\n",
    "print(\"Available columns: \", hod.columns) # see above link for meaning\n",
    "print(\"# of centrals: \", np.sum(hod['gal_type'].compute()==0))\n",
    "print(\"# of satellites = \", hod.compute((hod['gal_type']==1).sum()))"
   ]
  },
  {
   "cell_type": "code",
   "execution_count": 44,
   "id": "8bd8d34a",
   "metadata": {},
   "outputs": [
    {
     "name": "stdout",
     "output_type": "stream",
     "text": [
      "New # of galaxies:  247\n",
      "New # of galaxies:  244\n"
     ]
    },
    {
     "name": "stderr",
     "output_type": "stream",
     "text": [
      "/home/jwack/.conda/envs/nbodykit-env/lib/python3.8/site-packages/astropy/cosmology/core.py:342: AstropyDeprecationWarning: `astropy.cosmology.core.FLRW` has been moved (since v5.0) and should be imported as ``from astropy.cosmology import FLRW``. In future this will raise an exception.\n",
      "  warnings.warn(\n",
      "/home/jwack/.conda/envs/nbodykit-env/lib/python3.8/site-packages/astropy/cosmology/core.py:342: AstropyDeprecationWarning: `astropy.cosmology.core.FLRW` has been moved (since v5.0) and should be imported as ``from astropy.cosmology import FLRW``. In future this will raise an exception.\n",
      "  warnings.warn(\n"
     ]
    }
   ],
   "source": [
    "# can also repopulate halos. Can change parameters and/or seed\n",
    "hod.repopulate(seed=84)\n",
    "print(\"New # of galaxies: \", hod.size)\n",
    "hod.repopulate(logM0=13.2)\n",
    "print(\"New # of galaxies: \", hod.size)"
   ]
  }
 ],
 "metadata": {
  "kernelspec": {
   "display_name": "nbody-venv",
   "language": "python",
   "name": "local-venv"
  },
  "language_info": {
   "codemirror_mode": {
    "name": "ipython",
    "version": 3
   },
   "file_extension": ".py",
   "mimetype": "text/x-python",
   "name": "python",
   "nbconvert_exporter": "python",
   "pygments_lexer": "ipython3",
   "version": "3.8.13"
  }
 },
 "nbformat": 4,
 "nbformat_minor": 5
}
