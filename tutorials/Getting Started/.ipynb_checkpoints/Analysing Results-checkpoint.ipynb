{
 "cells": [
  {
   "cell_type": "markdown",
   "id": "47ed7661",
   "metadata": {},
   "source": [
    "Overview on how to access `BinnedStatistic` object being returned from most nbodykit algorithms. Class holds information as a coordinate grid which is defined by the bins."
   ]
  },
  {
   "cell_type": "code",
   "execution_count": 3,
   "id": "d495fcee",
   "metadata": {},
   "outputs": [],
   "source": [
    "%matplotlib inline\n",
    "%config InlineBackend.figure_format = 'retina'"
   ]
  },
  {
   "cell_type": "code",
   "execution_count": 4,
   "id": "7c2c7d7a",
   "metadata": {},
   "outputs": [],
   "source": [
    "import numpy as np\n",
    "from nbodykit.lab import *\n",
    "from nbodykit import style, setup_logging\n",
    "setup_logging()\n",
    "import matplotlib.pyplot as plt\n",
    "plt.style.use(style.notebook)"
   ]
  },
  {
   "cell_type": "markdown",
   "id": "09cfedf2",
   "metadata": {},
   "source": [
    "Make mock catalog and find 1D and 2D power spectrum"
   ]
  },
  {
   "cell_type": "code",
   "execution_count": 5,
   "id": "adb9bb69",
   "metadata": {},
   "outputs": [
    {
     "name": "stderr",
     "output_type": "stream",
     "text": [
      "[ 000164.61 ]   0: 06-20 10:47  LogNormalCatalog INFO     Growth Rate is 0.770123\n",
      "[ 000164.61 ]   0: 06-20 10:47  LogNormalCatalog INFO     Generating whitenoise\n",
      "[ 000167.69 ]   0: 06-20 10:47  LogNormalCatalog INFO     Write noise generated\n",
      "[ 000168.92 ]   0: 06-20 10:47  LogNormalCatalog INFO     Displacement computed in fourier space\n",
      "[ 000169.48 ]   0: 06-20 10:47  LogNormalCatalog INFO     Overdensity computed in configuration space: std = 1.1929580837889608\n",
      "[ 000171.07 ]   0: 06-20 10:47  LogNormalCatalog INFO     Displacement computed in configuration space: std = [4.238011674174512, 4.235169508603116, 4.313347332404491]\n",
      "[ 000171.08 ]   0: 06-20 10:47  LogNormalCatalog INFO     gaussian field is generated\n",
      "[ 000171.29 ]   0: 06-20 10:47  LogNormalCatalog INFO     Lognormal transformation done\n",
      "[ 000172.64 ]   0: 06-20 10:47  LogNormalCatalog INFO     Poisson sampling done, total number of objects is 788095\n",
      "[ 000222.05 ]   0: 06-20 10:48  LogNormalCatalog INFO     catalog produced. Assigning in cell shift.\n",
      "[ 000222.62 ]   0: 06-20 10:48  LogNormalCatalog INFO     sorting done\n",
      "[ 000222.67 ]   0: 06-20 10:48  LogNormalCatalog INFO     catalog shifted.\n",
      "[ 000222.69 ]   0: 06-20 10:48  LogNormalCatalog INFO     poisson sampling is generated\n",
      "/tmp/ipykernel_2676746/1850037614.py:7: DeprecationWarning: The window argument is deprecated. Use `resampler=` instead\n",
      "  mesh = cat.to_mesh(window='tsc', Nmesh=256, compensated=True, position='Position')\n"
     ]
    }
   ],
   "source": [
    "redshift = 0.55\n",
    "cosmo = cosmology.Planck15\n",
    "b1 = 2.0\n",
    "Plin = cosmology.LinearPower(cosmo, redshift, transfer=\"EisensteinHu\")\n",
    "\n",
    "cat = LogNormalCatalog(Plin=Plin, nbar=3e-4, BoxSize=1380., Nmesh=256, bias=b1, seed=42)\n",
    "mesh = cat.to_mesh(window='tsc', Nmesh=256, compensated=True, position='Position')"
   ]
  },
  {
   "cell_type": "code",
   "execution_count": 9,
   "id": "e474c16c",
   "metadata": {},
   "outputs": [
    {
     "name": "stderr",
     "output_type": "stream",
     "text": [
      "[ 000329.18 ]   0: 06-20 10:50  CatalogMesh     INFO     Chunk 0 ~ 4194304 / 788095 \n",
      "[ 000329.62 ]   0: 06-20 10:50  CatalogMesh     INFO     painted 788095 out of 788095 objects to mesh\n",
      "[ 000329.63 ]   0: 06-20 10:50  CatalogMesh     INFO     painted 788095 out of 788095 objects to mesh\n",
      "[ 000329.63 ]   0: 06-20 10:50  CatalogMesh     INFO     mean particles per cell is 0.0469741\n",
      "[ 000329.63 ]   0: 06-20 10:50  CatalogMesh     INFO     sum is 788095 \n",
      "[ 000329.65 ]   0: 06-20 10:50  CatalogMesh     INFO     normalized the convention to 1 + delta\n",
      "[ 000329.88 ]   0: 06-20 10:50  CatalogMesh     INFO     field: (LogNormalCatalog(seed=42, bias=2) as CatalogMesh) painting done\n",
      "[ 000330.46 ]   0: 06-20 10:50  CatalogMesh     INFO     Chunk 0 ~ 4194304 / 788095 \n",
      "[ 000330.89 ]   0: 06-20 10:50  CatalogMesh     INFO     painted 788095 out of 788095 objects to mesh\n",
      "[ 000330.90 ]   0: 06-20 10:50  CatalogMesh     INFO     painted 788095 out of 788095 objects to mesh\n",
      "[ 000330.90 ]   0: 06-20 10:50  CatalogMesh     INFO     mean particles per cell is 0.0469741\n",
      "[ 000330.90 ]   0: 06-20 10:50  CatalogMesh     INFO     sum is 788095 \n",
      "[ 000330.92 ]   0: 06-20 10:50  CatalogMesh     INFO     normalized the convention to 1 + delta\n",
      "[ 000331.15 ]   0: 06-20 10:50  CatalogMesh     INFO     field: (LogNormalCatalog(seed=42, bias=2) as CatalogMesh) painting done\n"
     ]
    }
   ],
   "source": [
    "power_1d = FFTPower(mesh, mode='1d', dk=0.005, kmin=0.01).power\n",
    "power_2d = FFTPower(mesh, mode='2d', dk=0.005, kmin=0.01, Nmu=5, los=[0,0,1]).power"
   ]
  },
  {
   "cell_type": "markdown",
   "id": "206c85dd",
   "metadata": {},
   "source": [
    "### Coordinate Grid"
   ]
  },
  {
   "cell_type": "code",
   "execution_count": 10,
   "id": "d4be37be",
   "metadata": {},
   "outputs": [
    {
     "name": "stdout",
     "output_type": "stream",
     "text": [
      "2D power shape:  (115, 5)\n",
      "2D power dims:  ['k', 'mu']\n",
      "2D power edges:  {'k': array([0.01 , 0.015, 0.02 , 0.025, 0.03 , 0.035, 0.04 , 0.045, 0.05 ,\n",
      "       0.055, 0.06 , 0.065, 0.07 , 0.075, 0.08 , 0.085, 0.09 , 0.095,\n",
      "       0.1  , 0.105, 0.11 , 0.115, 0.12 , 0.125, 0.13 , 0.135, 0.14 ,\n",
      "       0.145, 0.15 , 0.155, 0.16 , 0.165, 0.17 , 0.175, 0.18 , 0.185,\n",
      "       0.19 , 0.195, 0.2  , 0.205, 0.21 , 0.215, 0.22 , 0.225, 0.23 ,\n",
      "       0.235, 0.24 , 0.245, 0.25 , 0.255, 0.26 , 0.265, 0.27 , 0.275,\n",
      "       0.28 , 0.285, 0.29 , 0.295, 0.3  , 0.305, 0.31 , 0.315, 0.32 ,\n",
      "       0.325, 0.33 , 0.335, 0.34 , 0.345, 0.35 , 0.355, 0.36 , 0.365,\n",
      "       0.37 , 0.375, 0.38 , 0.385, 0.39 , 0.395, 0.4  , 0.405, 0.41 ,\n",
      "       0.415, 0.42 , 0.425, 0.43 , 0.435, 0.44 , 0.445, 0.45 , 0.455,\n",
      "       0.46 , 0.465, 0.47 , 0.475, 0.48 , 0.485, 0.49 , 0.495, 0.5  ,\n",
      "       0.505, 0.51 , 0.515, 0.52 , 0.525, 0.53 , 0.535, 0.54 , 0.545,\n",
      "       0.55 , 0.555, 0.56 , 0.565, 0.57 , 0.575, 0.58 , 0.585]), 'mu': array([-1. , -0.6, -0.2,  0.2,  0.6,  1. ])}\n"
     ]
    }
   ],
   "source": [
    "print('2D power shape: ', power_2d.shape)\n",
    "print('2D power dims: ', power_2d.dims)\n",
    "print('2D power edges: ', power_2d.edges)"
   ]
  },
  {
   "cell_type": "code",
   "execution_count": 15,
   "id": "876562b4",
   "metadata": {},
   "outputs": [
    {
     "name": "stdout",
     "output_type": "stream",
     "text": [
      "2D power var names:  ['k', 'mu', 'power', 'modes']\n",
      "All data:\n",
      " [[(       nan,        nan,            nan+nanj,   0)\n",
      "  (       nan,        nan,            nan+nanj,   0)\n",
      "  (0.01261578, 0.        , 37454.22135417 +0.j,  24)\n",
      "  (0.01210863, 0.38265427, 63411.4        +0.j,  40)\n",
      "  (0.01269478, 0.79200758, 77039.865      +0.j,  50)]\n",
      " [(       nan,        nan,            nan+nanj,   0)\n",
      "  (       nan,        nan,            nan+nanj,   0)\n",
      "  (0.01798445, 0.        , 27629.50520833 +0.j,  24)\n",
      "  (0.01752366, 0.37515281, 50833.04017857 +0.j, 112)\n",
      "  (0.01814763, 0.81115233, 62687.25       +0.j,  82)]]\n"
     ]
    }
   ],
   "source": [
    "# get names of all stored variables\n",
    "print('2D power var names: ', power_2d.variables)\n",
    "# get all data as np structured array\n",
    "print('All data:\\n', power_2d.data[:2])"
   ]
  },
  {
   "cell_type": "markdown",
   "id": "b00563df",
   "metadata": {},
   "source": [
    "### Slicing\n",
    "Note that for 1D power, BinnedStatistic is a matrix with rows being labeled by k and columns via the quantities computed by the algorithm.\n",
    "\n",
    "For 2D power, it is a 3 dimensional matrix with the additional dimension being labeled through mu."
   ]
  },
  {
   "cell_type": "code",
   "execution_count": 16,
   "id": "8822ec84",
   "metadata": {},
   "outputs": [
    {
     "name": "stdout",
     "output_type": "stream",
     "text": [
      "<BinnedStatistic: dims: (k: 115), variables: ('k', 'power', 'modes')>\n",
      "<BinnedStatistic: dims: (k: 2), variables: ('k', 'power', 'modes')>\n"
     ]
    }
   ],
   "source": [
    "# full BinnedStatistic\n",
    "print(power_1d)\n",
    "# sliced full BinnedStatistic\n",
    "print(power_1d[:2])"
   ]
  },
  {
   "cell_type": "code",
   "execution_count": 24,
   "id": "66a521ca",
   "metadata": {},
   "outputs": [
    {
     "data": {
      "text/plain": [
       "array([4009.65271394+0.j, 3986.67692893+0.j])"
      ]
     },
     "execution_count": 24,
     "metadata": {},
     "output_type": "execute_result"
    }
   ],
   "source": [
    "# get power for last 2 k bins only\n",
    "power_1d[-3:-1]['power']"
   ]
  },
  {
   "cell_type": "markdown",
   "id": "ba83fbca",
   "metadata": {},
   "source": [
    "### `sel()` method"
   ]
  },
  {
   "cell_type": "code",
   "execution_count": 27,
   "id": "577dcc27",
   "metadata": {},
   "outputs": [
    {
     "name": "stdout",
     "output_type": "stream",
     "text": [
      "<BinnedStatistic: dims: (mu: 5), variables: ('k', 'mu', 'power', 'modes')>\n",
      "<BinnedStatistic: dims: (k: 18), variables: ('k', 'mu', 'power', 'modes')>\n"
     ]
    }
   ],
   "source": [
    "# get all mu bins for the k bin closest to k=0.1\n",
    "print(power_2d.sel(k=0.1, method='nearest'))\n",
    "\n",
    "# get data for range of k and fixed mu\n",
    "print(power_2d.sel(k=slice(0.01, 0.1), mu=0.5, method='nearest'))"
   ]
  },
  {
   "cell_type": "markdown",
   "id": "b64b1a44",
   "metadata": {},
   "source": [
    "### Reindexing\n",
    "Can increase the bin spacing. The new values will be the average of the old ones."
   ]
  },
  {
   "cell_type": "code",
   "execution_count": 36,
   "id": "028b3858",
   "metadata": {},
   "outputs": [
    {
     "name": "stdout",
     "output_type": "stream",
     "text": [
      "<BinnedStatistic: dims: (k: 28, mu: 5), variables: ('k', 'mu', 'power', 'modes')>\n",
      "<BinnedStatistic: dims: (k: 115, mu: 2), variables: ('k', 'mu', 'power', 'modes')>\n"
     ]
    }
   ],
   "source": [
    "# wider k bins\n",
    "print(power_2d.reindex('k', 0.02))\n",
    "# wider mu bins\n",
    "print(power_2d.reindex('mu', 1))"
   ]
  },
  {
   "cell_type": "markdown",
   "id": "a8c5ad0f",
   "metadata": {},
   "source": [
    "### Averaging\n",
    "Reduce dimensionality by averaging over it."
   ]
  },
  {
   "cell_type": "code",
   "execution_count": 41,
   "id": "c4e5679a",
   "metadata": {},
   "outputs": [
    {
     "data": {
      "text/plain": [
       "False"
      ]
     },
     "execution_count": 41,
     "metadata": {},
     "output_type": "execute_result"
    }
   ],
   "source": [
    "# get approx P(k) from P(k,mu)\n",
    "Pk = power_2d.average('mu') \n",
    "np.allclose(Pk['power'], power_1d['power'])"
   ]
  }
 ],
 "metadata": {
  "kernelspec": {
   "display_name": "nbody-venv",
   "language": "python",
   "name": "local-venv"
  },
  "language_info": {
   "codemirror_mode": {
    "name": "ipython",
    "version": 3
   },
   "file_extension": ".py",
   "mimetype": "text/x-python",
   "name": "python",
   "nbconvert_exporter": "python",
   "pygments_lexer": "ipython3",
   "version": "3.8.13"
  }
 },
 "nbformat": 4,
 "nbformat_minor": 5
}
