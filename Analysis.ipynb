{
 "cells": [
  {
   "cell_type": "markdown",
   "id": "b39417ef",
   "metadata": {},
   "source": [
    "# Description\n",
    "Notebook to compare the redshift power spectrum deduced from the data to Kaiser's linear theory. The chosen cosmology, BoxSize, LOS, redshift is the same as those used in the generation of the mock data (see header of file or README in data directory). The linear bias is left as a free parameter and later fixed such that $\\chi^2$ between data and linear theory is minimal.\n",
    "\n",
    "Since data file is large, keep it in a separate directory."
   ]
  },
  {
   "cell_type": "code",
   "execution_count": 1,
   "id": "799e1708",
   "metadata": {},
   "outputs": [],
   "source": [
    "%matplotlib inline\n",
    "%config InlineBackend.figure_format = 'retina'"
   ]
  },
  {
   "cell_type": "code",
   "execution_count": 2,
   "id": "3b355013",
   "metadata": {},
   "outputs": [],
   "source": [
    "import numpy as np\n",
    "import matplotlib.pyplot as plt\n",
    "from scipy.optimize import minimize\n",
    "import cat_power_algos as catpk\n",
    "\n",
    "from nbodykit.lab import *\n",
    "from nbodykit import style, setup_logging\n",
    "#setup_logging()\n",
    "plt.style.use(style.notebook)"
   ]
  },
  {
   "cell_type": "code",
   "execution_count": null,
   "id": "7af22df5",
   "metadata": {},
   "outputs": [],
   "source": [
    "filename = '~/power_mockdata/HMQELG-eBOSS-density.gcat' \n",
    "\n",
    "cosmo = cosmology.Planck15\n",
    "BoxSize = 1000\n",
    "delta_k = 0.00687050087737447 # 30 bins for Nmesh=64\n",
    "LOS = [0,0,1]\n",
    "redshift = 0\n",
    "\n",
    "Plin = cosmology.LinearPower(cosmo, redshift, transfer='EisensteinHu')"
   ]
  },
  {
   "cell_type": "code",
   "execution_count": null,
   "id": "2b3bbe68",
   "metadata": {},
   "outputs": [],
   "source": [
    "Nmesh = 256\n",
    "k_Nyq = np.pi*Nmesh/BoxSize\n",
    "k_min = 0.005\n",
    "k_max = k_Nyq*1.05 # FFTPower only computes upto k_max \n",
    "Nk = int((k_max - k_min)/delta_k) # number of bins\n",
    "\n",
    "kbin = [k_min,k_max,Nk,'lin']"
   ]
  },
  {
   "cell_type": "code",
   "execution_count": null,
   "id": "aa763afb",
   "metadata": {},
   "outputs": [],
   "source": [
    "def kaiser_pkmu(k, b1, mu):\n",
    "    \"\"\"Returns power spectrum in redshift space, following Kaiser's linear results.\"\"\"\n",
    "    beta = cosmo.scale_independent_growth_rate(redshift) / b1 \n",
    "    return (1 + beta*mu**2)**2 *b1**2 * Plin(k)"
   ]
  }
 ],
 "metadata": {
  "kernelspec": {
   "display_name": "nbody-venv",
   "language": "python",
   "name": "local-venv"
  },
  "language_info": {
   "codemirror_mode": {
    "name": "ipython",
    "version": 3
   },
   "file_extension": ".py",
   "mimetype": "text/x-python",
   "name": "python",
   "nbconvert_exporter": "python",
   "pygments_lexer": "ipython3",
   "version": "3.8.13"
  }
 },
 "nbformat": 4,
 "nbformat_minor": 5
}
